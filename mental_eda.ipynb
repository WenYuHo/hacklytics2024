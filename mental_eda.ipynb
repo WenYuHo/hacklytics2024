{
 "cells": [
  {
   "cell_type": "code",
   "execution_count": 1,
   "metadata": {},
   "outputs": [
    {
     "name": "stderr",
     "output_type": "stream",
     "text": [
      "C:\\Users\\tony5\\AppData\\Local\\Temp\\ipykernel_11352\\1501269318.py:1: DeprecationWarning: \n",
      "Pyarrow will become a required dependency of pandas in the next major release of pandas (pandas 3.0),\n",
      "(to allow more performant data types, such as the Arrow string type, and better interoperability with other libraries)\n",
      "but was not found to be installed on your system.\n",
      "If this would cause problems for you,\n",
      "please provide us feedback at https://github.com/pandas-dev/pandas/issues/54466\n",
      "        \n",
      "  import pandas as pd\n"
     ]
    }
   ],
   "source": [
    "import pandas as pd\n",
    "import pycountry\n",
    "pd.set_option('display.max_rows', None)\n",
    "pd.set_option('display.max_columns', None)"
   ]
  },
  {
   "cell_type": "code",
   "execution_count": 2,
   "metadata": {},
   "outputs": [
    {
     "data": {
      "text/plain": [
       "\" df['Year'] = pd.to_numeric(df['Year'], errors='coerce', downcast='integer')\\n# Drop rows where 'Year' is less than 1800 or NaN\\ndf = df[(df['Year'] > 1800) & df['Year'].notna()]\\ndf.info() \""
      ]
     },
     "execution_count": 2,
     "metadata": {},
     "output_type": "execute_result"
    }
   ],
   "source": [
    "#df = pd.read_csv(\"Mental health Depression disorder Data.csv\", low_memory=False)\n",
    "# Convert 'Year' column to numeric, coercing errors to NaN\n",
    "\"\"\" df['Year'] = pd.to_numeric(df['Year'], errors='coerce', downcast='integer')\n",
    "# Drop rows where 'Year' is less than 1800 or NaN\n",
    "df = df[(df['Year'] > 1800) & df['Year'].notna()]\n",
    "df.info() \"\"\""
   ]
  },
  {
   "cell_type": "code",
   "execution_count": 2,
   "metadata": {},
   "outputs": [],
   "source": [
    "df = pd.read_csv(\"output_file.csv\", low_memory=False)"
   ]
  },
  {
   "cell_type": "code",
   "execution_count": 3,
   "metadata": {},
   "outputs": [],
   "source": [
    "# Assuming df is your DataFrame containing all the data\n",
    "\n",
    "# Table 1: Mental Health Disorder Shares in %\n",
    "table_1 = df.iloc[:6468]\n",
    "\n",
    "# Table 2: Mental Health Disorder Share per Sex in %\n",
    "table_2 = df.iloc[6469:54277]\n",
    "\n",
    "# Table 3: Suicide and Depression per 100k inhabitants\n",
    "table_3 = df.iloc[54277:102084]\n",
    "\n",
    "# Table 4: Prevalence - Depressive disorders per 100k inhabitants\n",
    "table_4 = df.iloc[102085:]\n"
   ]
  },
  {
   "cell_type": "code",
   "execution_count": 7,
   "metadata": {},
   "outputs": [],
   "source": [
    "table_1.to_csv('table_1.csv', index=False)\n"
   ]
  },
  {
   "cell_type": "code",
   "execution_count": 6,
   "metadata": {},
   "outputs": [],
   "source": [
    "table_2\n"
   ]
  },
  {
   "cell_type": "code",
   "execution_count": null,
   "metadata": {},
   "outputs": [],
   "source": [
    "df['Code'] = df['Code'].astype(str)\n",
    "# Create a function to get the region from the country code\n",
    "def get_region(country_code):\n",
    "    try:\n",
    "        country = pycountry.countries.get(alpha_3=country_code)\n",
    "        return country.name if country else None\n",
    "    except (LookupError, AttributeError):\n",
    "        return None\n",
    "    \n",
    "    \n",
    "# Apply the function to create a new 'Region' column\n",
    "df['Country'] = df['Code'].apply(get_region)"
   ]
  }
 ],
 "metadata": {
  "kernelspec": {
   "display_name": ".venv",
   "language": "python",
   "name": "python3"
  },
  "language_info": {
   "codemirror_mode": {
    "name": "ipython",
    "version": 3
   },
   "file_extension": ".py",
   "mimetype": "text/x-python",
   "name": "python",
   "nbconvert_exporter": "python",
   "pygments_lexer": "ipython3",
   "version": "3.12.1"
  }
 },
 "nbformat": 4,
 "nbformat_minor": 2
}
